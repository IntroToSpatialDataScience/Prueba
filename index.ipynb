{
 "cells": [
  {
   "cell_type": "code",
   "execution_count": 5,
   "id": "18a29013",
   "metadata": {},
   "outputs": [],
   "source": [
    "import pandas as pd\n",
    "\n",
    "linkGit = \"https://www.mindmeister.com/generic_files/get_file/16613947?filetype=attachment_file\"\n",
    "\n",
    "dataRaee = pd.read_csv(linkGit)"
   ]
  },
  {
   "cell_type": "code",
   "execution_count": null,
   "id": "563e3e0b",
   "metadata": {},
   "outputs": [],
   "source": []
  }
 ],
 "metadata": {
  "kernelspec": {
   "display_name": "Python 3 (ipykernel)",
   "language": "python",
   "name": "python3"
  },
  "language_info": {
   "codemirror_mode": {
    "name": "ipython",
    "version": 3
   },
   "file_extension": ".py",
   "mimetype": "text/x-python",
   "name": "python",
   "nbconvert_exporter": "python",
   "pygments_lexer": "ipython3",
   "version": "3.11.4"
  }
 },
 "nbformat": 4,
 "nbformat_minor": 5
}
